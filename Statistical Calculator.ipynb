{
 "cells": [
  {
   "cell_type": "markdown",
   "id": "37487917-11f2-4db3-a732-a2de0ba2f402",
   "metadata": {},
   "source": [
    "import libraries"
   ]
  },
  {
   "cell_type": "code",
   "execution_count": 4,
   "id": "db8e3725-91bb-4c60-82af-2b286468a0ef",
   "metadata": {},
   "outputs": [],
   "source": [
    "import numpy as np\n",
    "from scipy import stats"
   ]
  },
  {
   "cell_type": "markdown",
   "id": "770b5ec5-082d-4027-8821-a587c3c2102e",
   "metadata": {},
   "source": [
    "Input Data"
   ]
  },
  {
   "cell_type": "code",
   "execution_count": 8,
   "id": "2e883b88-fe12-4ba1-8af3-873855792397",
   "metadata": {},
   "outputs": [
    {
     "name": "stdin",
     "output_type": "stream",
     "text": [
      "Enter numbers seperated by space:  1 2 5 4 7 8 6 5 2 4 4 7 5 8 5\n"
     ]
    }
   ],
   "source": [
    "data=np.array(list(map(int, input(\"Enter numbers seperated by space: \").split())))"
   ]
  },
  {
   "cell_type": "markdown",
   "id": "a112596d-90f0-4f45-ba16-a893b931a35c",
   "metadata": {},
   "source": [
    "Caculate Statistics"
   ]
  },
  {
   "cell_type": "code",
   "execution_count": 9,
   "id": "ccb94b50-c599-4686-aa02-f01a9582134a",
   "metadata": {},
   "outputs": [],
   "source": [
    "mean = np.mean(data)\n",
    "median = np.median(data)\n",
    "mode = stats.mode(data, keepdims=True).mode[0]\n",
    "variance = np.var(data)\n",
    "std_dev = np.std(data)"
   ]
  },
  {
   "cell_type": "markdown",
   "id": "81b66a7c-acbb-4eba-93cd-63953776cb72",
   "metadata": {},
   "source": [
    "Printing data"
   ]
  },
  {
   "cell_type": "code",
   "execution_count": 10,
   "id": "0dde8f89-638b-432a-afdf-9a1200f3c92e",
   "metadata": {},
   "outputs": [
    {
     "name": "stdout",
     "output_type": "stream",
     "text": [
      "Data: [1 2 5 4 7 8 6 5 2 4 4 7 5 8 5]\n",
      "Mean: 4.866666666666666\n",
      "Median: 5.0\n",
      "Mode: 5\n",
      "Variance: 4.248888888888889\n",
      "Standard Deviation: 2.0612833111653743\n"
     ]
    }
   ],
   "source": [
    "print(f\"Data: {data}\")\n",
    "print(f\"Mean: {mean}\")\n",
    "print(f\"Median: {median}\")\n",
    "print(f\"Mode: {mode}\")\n",
    "print(f\"Variance: {variance}\")\n",
    "print(f\"Standard Deviation: {std_dev}\")"
   ]
  },
  {
   "cell_type": "markdown",
   "id": "4f1e40f9-2d92-47ff-aee2-24085b69c0c7",
   "metadata": {},
   "source": [
    "Plot data"
   ]
  },
  {
   "cell_type": "code",
   "execution_count": 12,
   "id": "3b79ed93-d2d2-4f26-a3fb-5374fc2e01b3",
   "metadata": {},
   "outputs": [
    {
     "data": {
      "image/png": "[encoded data removed]",
      "text/plain": [
       "<Figure size 640x480 with 1 Axes>"
      ]
     },
     "metadata": {},
     "output_type": "display_data"
    }
   ],
   "source": [
    "import matplotlib.pyplot as plt\n",
    "\n",
    "plt.hist(data, bins=range(min(data), max(data) + 2), edgecolor='black')\n",
    "plt.title('Data Distribution')\n",
    "plt.xlabel('Value')\n",
    "plt.ylabel('Frequency')\n",
    "plt.show()"
   ]
  },
  {
   "cell_type": "code",
   "execution_count": null,
   "id": "fb112334-b954-4427-b11d-d9f7e0ef118f",
   "metadata": {},
   "outputs": [],
   "source": []
  }
 ],
 "metadata": {
  "kernelspec": {
   "display_name": "Python 3 (ipykernel)",
   "language": "python",
   "name": "python3"
  },
  "language_info": {
   "codemirror_mode": {
    "name": "ipython",
    "version": 3
   },
   "file_extension": ".py",
   "mimetype": "text/x-python",
   "name": "python",
   "nbconvert_exporter": "python",
   "pygments_lexer": "ipython3",
   "version": "3.10.9"
  }
 },
 "nbformat": 4,
 "nbformat_minor": 5
}
